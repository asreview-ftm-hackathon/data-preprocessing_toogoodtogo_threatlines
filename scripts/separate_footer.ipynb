{
 "cells": [
  {
   "cell_type": "code",
   "execution_count": 2,
   "id": "0bc1cbea",
   "metadata": {},
   "outputs": [
    {
     "name": "stdout",
     "output_type": "stream",
     "text": [
      "Starting out with 6752 entries\n"
     ]
    }
   ],
   "source": [
    "import pandas as pd\n",
    "import re\n",
    "import numpy as np\n",
    "\n",
    "df = pd.read_csv('../data\\split_emails.csv', delimiter='|')\n",
    "\n",
    "print(\"Starting out with %s entries\" % len(df))"
   ]
  },
  {
   "cell_type": "code",
   "execution_count": 3,
   "id": "38dce183",
   "metadata": {},
   "outputs": [],
   "source": [
    "# list of email closings\n",
    "email_endings = \"groet|mvg\"\n",
    "email_beginnings = \"geachte(.*)|dames en heren(.*)|hoi(.*)|beste (.*)\""
   ]
  },
  {
   "cell_type": "code",
   "execution_count": 4,
   "id": "74d8a458",
   "metadata": {},
   "outputs": [
    {
     "name": "stderr",
     "output_type": "stream",
     "text": [
      "<ipython-input-4-10fadb9129dc>:1: UserWarning: Pandas doesn't allow columns to be created via a new attribute name - see https://pandas.pydata.org/pandas-docs/stable/indexing.html#attribute-access\n",
      "  df.formatted_abstract = df.abstract.str.lower()\n"
     ]
    }
   ],
   "source": [
    "df.formatted_abstract = df.abstract.str.lower()"
   ]
  },
  {
   "cell_type": "code",
   "execution_count": 5,
   "id": "693e80cb",
   "metadata": {},
   "outputs": [],
   "source": [
    "df['closing'] = df.formatted_abstract.apply(lambda x: re.split(email_endings, x)[-1]  if re.search(email_endings, x) else None)\n",
    "df['formatted_abstract'] = df.formatted_abstract.apply(lambda x: re.split(email_endings, x)[0] if not re.search(email_endings, x) else None)\n",
    "\n",
    "df['opening'] = df.formatted_abstract.apply(lambda x: re.split(email_beginnings, x)[0] if re.search(email_beginnings, x) else None)\n",
    "df['formatted_abstract'] = df.formatted_abstract.apply(lambda x: re.split(email_beginnings, x)[-1] if re.search(email_beginnings, x) else None)"
   ]
  },
  {
   "cell_type": "code",
   "execution_count": 6,
   "id": "4a1d7065",
   "metadata": {},
   "outputs": [],
   "source": [
    "df.opening = df.opening.replace(r'\\n',' ', regex=True).replace(r'\\r',' ', regex=True).replace('\\s+'' ', regex=True)\n",
    "df.formatted_abstract = df.formatted_abstract.replace(r'\\n',' ', regex=True).replace(r'\\r',' ', regex=True).replace('\\s+'' ', regex=True)\n",
    "df.closing = df.closing.replace(r'\\n',' ', regex=True).replace(r'\\r',' ', regex=True).replace('\\s+'' ', regex=True)"
   ]
  },
  {
   "cell_type": "code",
   "execution_count": 9,
   "id": "57924097",
   "metadata": {},
   "outputs": [],
   "source": [
    "df.to_csv('../data/clean_dataset_with_formatted_abstract.csv', sep='|')"
   ]
  },
  {
   "cell_type": "code",
   "execution_count": null,
   "id": "a398958a-0a7d-4138-b222-a565dfbf5ef9",
   "metadata": {},
   "outputs": [],
   "source": []
  }
 ],
 "metadata": {
  "kernelspec": {
   "display_name": "Python 3",
   "language": "python",
   "name": "python3"
  },
  "language_info": {
   "codemirror_mode": {
    "name": "ipython",
    "version": 3
   },
   "file_extension": ".py",
   "mimetype": "text/x-python",
   "name": "python",
   "nbconvert_exporter": "python",
   "pygments_lexer": "ipython3",
   "version": "3.8.5"
  }
 },
 "nbformat": 4,
 "nbformat_minor": 5
}
